{
  "nbformat": 4,
  "nbformat_minor": 0,
  "metadata": {
    "colab": {
      "provenance": [],
      "authorship_tag": "ABX9TyNoJT2KQIFFJah2Yn1LhpAT",
      "include_colab_link": true
    },
    "kernelspec": {
      "name": "python3",
      "display_name": "Python 3"
    },
    "language_info": {
      "name": "python"
    }
  },
  "cells": [
    {
      "cell_type": "markdown",
      "metadata": {
        "id": "view-in-github",
        "colab_type": "text"
      },
      "source": [
        "<a href=\"https://colab.research.google.com/github/appletiger0704/textDataProcessing/blob/main/textDataProcessing.ipynb\" target=\"_parent\"><img src=\"https://colab.research.google.com/assets/colab-badge.svg\" alt=\"Open In Colab\"/></a>"
      ]
    },
    {
      "cell_type": "code",
      "execution_count": null,
      "metadata": {
        "id": "BMN0EQnFnUp0"
      },
      "outputs": [],
      "source": [
        "import jieba\n",
        "import jieba.posseg as pseg\n",
        "\n",
        "text = '我喜歡用Python編程'\n",
        "# 斷詞\n",
        "#jieba.cut()返回一個生成式，而非迭代器\n",
        "words = jieba.cut(text)\n",
        "print(f'word:{words}')\n",
        "print('|'.join(words))\n",
        "\n",
        "# 詞性標記\n",
        "word = pseg.cut(text)\n",
        "print(f'word:{word}')\n",
        "for word, pos in word:\n",
        "  print(word, pos)"
      ]
    },
    {
      "cell_type": "code",
      "source": [
        "# 提取關鍵字\n",
        "import jieba.analyse\n",
        "\n",
        "kw = jieba.analyse.extract_tags(text, topK = 20, withWeight=True)\n",
        "print(kw)"
      ],
      "metadata": {
        "colab": {
          "base_uri": "https://localhost:8080/"
        },
        "id": "bJfdDJrP3sCI",
        "outputId": "6051e547-a642-4b66-cd2e-359a63626ea4"
      },
      "execution_count": 16,
      "outputs": [
        {
          "output_type": "stream",
          "name": "stdout",
          "text": [
            "[('我喜', 2.988691875725), ('歡用', 2.988691875725), ('Python', 2.988691875725), ('編程', 2.988691875725)]\n"
          ]
        }
      ]
    }
  ]
}