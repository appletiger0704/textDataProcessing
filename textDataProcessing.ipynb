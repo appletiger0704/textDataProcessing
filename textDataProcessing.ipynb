{
  "nbformat": 4,
  "nbformat_minor": 0,
  "metadata": {
    "colab": {
      "provenance": [],
      "authorship_tag": "ABX9TyPiFz4VuqELToG9fDOse4LB",
      "include_colab_link": true
    },
    "kernelspec": {
      "name": "python3",
      "display_name": "Python 3"
    },
    "language_info": {
      "name": "python"
    }
  },
  "cells": [
    {
      "cell_type": "markdown",
      "metadata": {
        "id": "view-in-github",
        "colab_type": "text"
      },
      "source": [
        "<a href=\"https://colab.research.google.com/github/appletiger0704/textDataProcessing/blob/main/textDataProcessing.ipynb\" target=\"_parent\"><img src=\"https://colab.research.google.com/assets/colab-badge.svg\" alt=\"Open In Colab\"/></a>"
      ]
    },
    {
      "cell_type": "code",
      "execution_count": null,
      "metadata": {
        "id": "BMN0EQnFnUp0"
      },
      "outputs": [],
      "source": [
        "import jieba\n",
        "import jieba.posseg as pseg\n",
        "\n",
        "text = '我喜歡用Python編程'\n",
        "# 斷詞\n",
        "#jieba.cut()返回一個生成式，而非迭代器\n",
        "words = jieba.cut(text)\n",
        "print(f'word:{words}')\n",
        "print('|'.join(words))\n",
        "\n",
        "# 詞性標記\n",
        "word = pseg.cut(text)\n",
        "print(f'word:{word}')\n",
        "for word, pos in word:\n",
        "  print(word, pos)"
      ]
    },
    {
      "cell_type": "code",
      "source": [
        "# 提取關鍵字\n",
        "import jieba.analyse\n",
        "\n",
        "kw = jieba.analyse.extract_tags(text, topK = 20, withWeight=True)\n",
        "print(kw)"
      ],
      "metadata": {
        "id": "bJfdDJrP3sCI"
      },
      "execution_count": null,
      "outputs": []
    },
    {
      "cell_type": "code",
      "source": [
        "import requests\n",
        "from bs4 import BeautifulSoup\n",
        "\n",
        "# 利用 requests 對 API 來源發送一個請求\n",
        "response = requests.get('https://udn.com/news/breaknews/1')\n",
        "# BeautifulSoup 解析 HTML 文字檔，Python內建html.parser， 亦可使用 html5lib 以及 lxml等解析器\n",
        "soup = BeautifulSoup(response.text, \"html5lib\")\n",
        "\n",
        "# prettify() 用以美化解析過 HTML 文字檔\n",
        "print(soup.prettify())\n",
        "\n",
        "news = []\n",
        "\n",
        "for link in soup.find_all('h3', class_='rounded-thumb__title')[:4]:\n",
        "  news_url = link.a['href']\n",
        "  news_response = requests.get('https://udn.com' + news_url)\n",
        "  news_soup = BeautifulSoup(news_response.text)\n",
        "  news_content = news_soup.find('div', class_='article-content__paragraph').text.strip().replace('\\n', ' ')\n",
        "  news.append(news_content)\n",
        "print(news)"
      ],
      "metadata": {
        "id": "NbuT6-tnhGOg"
      },
      "execution_count": null,
      "outputs": []
    },
    {
      "cell_type": "code",
      "source": [
        "# 安裝結巴套件\n",
        "!pip install jieba\n",
        "\n",
        "# 下載官方字典檔\n",
        "!wget https://raw.githubusercontent.com/fxsjy/jieba/master/extra_dict/dict.txt.big\n",
        "\n",
        "# 載入套件與字典檔\n",
        "import jieba\n",
        "jieba.load_userdict(\"dict.txt.big\")\n",
        "\n",
        "\n",
        "# 精確模式斷詞\n",
        "# 將斷詞結果存進cut_list中，會有重複的斷詞\n",
        "cut_list = []\n",
        "for d in news:\n",
        "  token = jieba.lcut(d, HMM=False)\n",
        "  # token = list(jieba.cut(d, HMM=false))\n",
        "  # jieba.cut() 回傳值為生成器\n",
        "  cut_list.append(token)\n",
        "\n",
        "word_count = {}\n",
        "\n",
        "for i in cut_list:\n",
        "  for j in i:\n",
        "    if j not in word_count.keys():\n",
        "      word_count[j] = 1\n",
        "    elif j in word_count.keys():\n",
        "      word_count[j] += 1\n",
        "\n",
        "word_count = dict(sorted(word_count.items(), key=lambda item:item[1], reverse=True))\n",
        "print(word_count)\n",
        "# {'聲明': 4, '主管機關': 3, ...}"
      ],
      "metadata": {
        "id": "kLZ84IWoizxq"
      },
      "execution_count": null,
      "outputs": []
    }
  ]
}